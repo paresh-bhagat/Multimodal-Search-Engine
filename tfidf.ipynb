{
 "cells": [
  {
   "cell_type": "code",
   "execution_count": 5,
   "id": "3fc4d778",
   "metadata": {},
   "outputs": [],
   "source": [
    "from sklearn.feature_extraction.text import TfidfVectorizer\n",
    "from sklearn.feature_extraction.text import CountVectorizer\n",
    "import pandas as pd\n",
    "#pd.set_option(\"max_rows\", 600)\n",
    "from pathlib import Path  \n",
    "import glob\n",
    "import re"
   ]
  },
  {
   "cell_type": "code",
   "execution_count": 6,
   "id": "07f553c3",
   "metadata": {},
   "outputs": [],
   "source": [
    "import time\n",
    "def search_tfidf(processed_article):    \n",
    "    processed_article = processed_article.lower()\n",
    "    processed_article = re.sub('[^a-zA-Z]', ' ', processed_article )\n",
    "    processed_article = re.sub(r'\\s+', ' ', processed_article)\n",
    "    if len(processed_article)!=1:\n",
    "        shortword = re.compile(r'\\W*\\b\\w{1,1}\\b')\n",
    "        processed_article = shortword.sub('', processed_article)\n",
    "    strr = processed_article.split()[0]\n",
    "    start = time.time()\n",
    "    model = pd.read_csv('./tfidf/tfidf_model.csv')\n",
    "    top_tfidf = model.sort_values(by=['tfidf'], ascending=[False]).groupby(['term']).head(10)\n",
    "    s = top_tfidf[top_tfidf['term'].str.contains(strr)]\n",
    "    #print(s)\n",
    "    doc_names = s['document'].tolist()\n",
    "    tfidf_values = s['tfidf'].tolist()\n",
    "    result=[]\n",
    "    result.append(\"Top similar word matches according to rank : \")\n",
    "    for i in range(0,len(doc_names)):\n",
    "        if tfidf_values[i]==0 or len(result)==6:\n",
    "            break\n",
    "        if doc_names[i] not in result:\n",
    "            result.append(doc_names[i])\n",
    "            \n",
    "    if(len(result))==0:\n",
    "        print(\"No matches found\")\n",
    "    else:\n",
    "        print(\"Top similar word matches according to rank \")\n",
    "        print()\n",
    "        for i in range(len(result)):\n",
    "            url = \"https://en.wikipedia.org/wiki/\"+result[i]\n",
    "            print(i+1,\".\",result[i],url) \n",
    "    end = time.time()\n",
    "    print()\n",
    "    print(\"time taken to search:\",round(end-start,1),\"sec\")\n",
    "    result.append(\"Time taken to search : \"+ str(round(end-start,1)) + \" \" + \"sec\")\n",
    "    for i in range(1,6):\n",
    "        result[i] = result[i].replace (\"_\", \" \")\n",
    "    return result"
   ]
  },
  {
   "cell_type": "markdown",
   "id": "1d8a75b3",
   "metadata": {},
   "source": [
    "## search here"
   ]
  },
  {
   "cell_type": "code",
   "execution_count": 9,
   "id": "19124fad",
   "metadata": {},
   "outputs": [],
   "source": [
    "#result = search_tfidf('home')"
   ]
  },
  {
   "cell_type": "code",
   "execution_count": 10,
   "id": "c2653524",
   "metadata": {},
   "outputs": [],
   "source": [
    "#result"
   ]
  }
 ],
 "metadata": {
  "kernelspec": {
   "display_name": "Python 3 (ipykernel)",
   "language": "python",
   "name": "python3"
  },
  "language_info": {
   "codemirror_mode": {
    "name": "ipython",
    "version": 3
   },
   "file_extension": ".py",
   "mimetype": "text/x-python",
   "name": "python",
   "nbconvert_exporter": "python",
   "pygments_lexer": "ipython3",
   "version": "3.8.5"
  }
 },
 "nbformat": 4,
 "nbformat_minor": 5
}
