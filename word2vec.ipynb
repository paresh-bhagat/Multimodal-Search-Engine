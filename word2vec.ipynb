{
 "cells": [
  {
   "cell_type": "code",
   "execution_count": 1,
   "id": "a068d49d",
   "metadata": {},
   "outputs": [],
   "source": [
    "import os\n",
    "import sys\n",
    "from gensim.models import Word2Vec\n",
    "from gensim.models.phrases import Phraser, Phrases\n",
    "from gensim.models.doc2vec import Doc2Vec, TaggedDocument\n",
    "from nltk.tokenize import word_tokenize\n",
    "from pandas import *\n",
    "import json\n",
    "import re\n",
    "import time"
   ]
  },
  {
   "cell_type": "code",
   "execution_count": 8,
   "id": "301b118c",
   "metadata": {},
   "outputs": [],
   "source": [
    "def search_word2vec(processed_article):\n",
    "    start = time.time()\n",
    "    model2 = Word2Vec.load('./word2vec/word2vec_model.model')\n",
    "    filename = \"./word2vec/table.csv\"\n",
    "    processed_article = processed_article.lower()\n",
    "    processed_article = re.sub('[^a-zA-Z]', ' ', processed_article )\n",
    "    processed_article = re.sub(r'\\s+', ' ', processed_article)\n",
    "    if len(processed_article)!=1:\n",
    "        shortword = re.compile(r'\\W*\\b\\w{1,1}\\b')\n",
    "        processed_article = shortword.sub('', processed_article)\n",
    "    strr = processed_article.split()[0] \n",
    "    data = read_csv(filename)\n",
    "    words = data['Page'].tolist()\n",
    "    ## Load saved doc2vec model\n",
    "    model= Doc2Vec.load(\"./word2vec/test_doc2vec.model\")\n",
    "    \n",
    "    # find most similar doc \n",
    "    lst = []\n",
    "    test_doc = word_tokenize(strr.lower())\n",
    "    s1 = model2.wv.most_similar(strr)\n",
    "    s2 = model.dv.most_similar(positive=[model.infer_vector(test_doc)],topn=5)\n",
    "    lst.append(\"Top similar word matches according to rank : \")\n",
    "    print(\"Top similar word matches according to rank : \",end=\"\")\n",
    "    for i in range(0,5):\n",
    "        print(s1[i][0],end=\", \")\n",
    "        lst[0] = lst[0]+s1[i][0]+\" \"\n",
    "    print()\n",
    "    print()\n",
    "    lst.append(\"Top related articles : \")\n",
    "    print(\"Top related articles:\")\n",
    "    \n",
    "    for i in range(0,5):\n",
    "        strr2 = words[s2[i][0]]\n",
    "        lst.append(strr2)\n",
    "        strr2 = strr2.replace (\" \", \"_\")\n",
    "        url = \"https://en.wikipedia.org/wiki/\"+strr2\n",
    "        print(i+1,\".\",strr2,url)\n",
    "    end = time.time()\n",
    "    print()\n",
    "    print(\"time taken to search:\",round(end-start,1),\"sec\")\n",
    "    lst.append(\"Time taken to search : \" + str(round(end-start,1)) + \" sec\")\n",
    "    return lst"
   ]
  },
  {
   "cell_type": "markdown",
   "id": "29864d76",
   "metadata": {},
   "source": [
    "## search here"
   ]
  },
  {
   "cell_type": "code",
   "execution_count": 9,
   "id": "be35e7d6",
   "metadata": {},
   "outputs": [
    {
     "name": "stdout",
     "output_type": "stream",
     "text": [
      "Top similar word matches according to rank : frontierland, mansion, campus, fantasmic, club, \n",
      "\n",
      "Top related articles:\n",
      "1 . Los_Angeles_International_Airport https://en.wikipedia.org/wiki/Los_Angeles_International_Airport\n",
      "2 . United_States_Military_Academy https://en.wikipedia.org/wiki/United_States_Military_Academy\n",
      "3 . Forbidden_City https://en.wikipedia.org/wiki/Forbidden_City\n",
      "4 . Buckingham_Palace https://en.wikipedia.org/wiki/Buckingham_Palace\n",
      "5 . Heathrow_Airport https://en.wikipedia.org/wiki/Heathrow_Airport\n",
      "\n",
      "time taken to search: 1.1971089839935303 sec\n"
     ]
    }
   ],
   "source": [
    "#s = search_word2vec('home')"
   ]
  },
  {
   "cell_type": "code",
   "execution_count": 10,
   "id": "4fdc55b2",
   "metadata": {},
   "outputs": [
    {
     "data": {
      "text/plain": [
       "['Top similar word matches according to rank : frontierland mansion campus fantasmic club ',\n",
       " 'Top related articles : ',\n",
       " 'Los Angeles International Airport',\n",
       " 'United States Military Academy',\n",
       " 'Forbidden City',\n",
       " 'Buckingham Palace',\n",
       " 'Heathrow Airport',\n",
       " 'Time taken to search : 1.1971089839935303 sec']"
      ]
     },
     "execution_count": 10,
     "metadata": {},
     "output_type": "execute_result"
    }
   ],
   "source": [
    "#s"
   ]
  },
  {
   "cell_type": "code",
   "execution_count": null,
   "id": "993f1df6",
   "metadata": {},
   "outputs": [],
   "source": []
  }
 ],
 "metadata": {
  "kernelspec": {
   "display_name": "Python 3 (ipykernel)",
   "language": "python",
   "name": "python3"
  },
  "language_info": {
   "codemirror_mode": {
    "name": "ipython",
    "version": 3
   },
   "file_extension": ".py",
   "mimetype": "text/x-python",
   "name": "python",
   "nbconvert_exporter": "python",
   "pygments_lexer": "ipython3",
   "version": "3.8.5"
  }
 },
 "nbformat": 4,
 "nbformat_minor": 5
}
