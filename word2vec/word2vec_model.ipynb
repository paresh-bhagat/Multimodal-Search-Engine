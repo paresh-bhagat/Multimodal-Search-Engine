{
 "cells": [
  {
   "cell_type": "code",
   "execution_count": 1,
   "id": "41b38ff5",
   "metadata": {},
   "outputs": [],
   "source": [
    "import os\n",
    "import sys\n",
    "import re\n",
    "from gensim.models import Word2Vec\n",
    "from gensim.models.phrases import Phraser, Phrases\n",
    "from gensim.models.doc2vec import Doc2Vec, TaggedDocument\n",
    "from nltk.tokenize import word_tokenize\n",
    "from pandas import *"
   ]
  },
  {
   "cell_type": "code",
   "execution_count": 2,
   "id": "bb6b1427",
   "metadata": {},
   "outputs": [],
   "source": [
    "import json\n",
    "f = open('./processed.txt','r')\n",
    "processed = json.loads(f.read())\n",
    "\n",
    "model = Word2Vec(processed, \n",
    "                 min_count=2,   # Ignore words that appear less than this\n",
    "                 vector_size=200,      # Dimensionality of word embeddings\n",
    "                 workers=2,     # Number of processors (parallelisation)\n",
    "                 window=5,      # Context window for words during training\n",
    "                 epochs=30)       # Number of epochs training over"
   ]
  },
  {
   "cell_type": "code",
   "execution_count": 3,
   "id": "a610dbe3",
   "metadata": {},
   "outputs": [],
   "source": [
    "model.save('./word2vec_model.model')"
   ]
  },
  {
   "cell_type": "code",
   "execution_count": null,
   "id": "23ddadb9",
   "metadata": {},
   "outputs": [],
   "source": [
    "# Convert tokenized document into gensim formated tagged data\n",
    "\n",
    "\n",
    "tagged_data = [TaggedDocument(d, [i]) for i, d in enumerate(processed)]\n",
    "\n",
    "## Train doc2vec model\n",
    "model = Doc2Vec(tagged_data, vector_size=20, window=2, min_count=1, workers=4, epochs = 100)\n",
    "# Save trained doc2vec model\n",
    "model.save(\"./test_doc2vec.model\")\n",
    "\n",
    "\n",
    "## Print model vocabulary\n",
    "#model.wv.vocab"
   ]
  }
 ],
 "metadata": {
  "kernelspec": {
   "display_name": "Python 3 (ipykernel)",
   "language": "python",
   "name": "python3"
  },
  "language_info": {
   "codemirror_mode": {
    "name": "ipython",
    "version": 3
   },
   "file_extension": ".py",
   "mimetype": "text/x-python",
   "name": "python",
   "nbconvert_exporter": "python",
   "pygments_lexer": "ipython3",
   "version": "3.8.5"
  }
 },
 "nbformat": 4,
 "nbformat_minor": 5
}
