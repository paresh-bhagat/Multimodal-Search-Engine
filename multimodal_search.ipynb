{
 "cells": [
  {
   "cell_type": "code",
   "execution_count": 10,
   "id": "ab5d67c9",
   "metadata": {},
   "outputs": [],
   "source": [
    "from ipynb.fs.full.tfidf import search_tfidf\n",
    "from ipynb.fs.full.word2vec import search_word2vec\n",
    "from ipynb.fs.full.bag_of_words import search_image\n",
    "import json\n",
    "import random\n",
    "from PIL import Image\n",
    "import numpy as np\n",
    "import re"
   ]
  },
  {
   "cell_type": "code",
   "execution_count": 11,
   "id": "b9ad0b38",
   "metadata": {},
   "outputs": [],
   "source": [
    "def multimodal_search_word(word):\n",
    "    \n",
    "    sw = search_word2vec(word)\n",
    "    st = search_tfidf(word)\n",
    "    f = open('./bag_of_words/mylist3.txt','r')\n",
    "    path = json.loads(f.read())\n",
    "    #word2 = st[1]\n",
    "    word2 = \"Taj Mahal\"\n",
    "    #print(\"Images related to search:\")  \n",
    "    image_path = \"./images/\" + path[word2][0]\n",
    "    result_bow = search_image(image_path)\n",
    "    \n",
    "    mm_result = []\n",
    "    mm_result.append(sw[0])\n",
    "    mm_result.append(sw[1])\n",
    "    t1 = float(result_bow[2][22:25])\n",
    "    t2 = float(st[6][22:25])\n",
    "    t3 = float(sw[7][22:25])\n",
    "    for i in range(1,6):\n",
    "        mm_result.append(st[i])\n",
    "    mm_result.append(\"Time taken to search : \" + str(round(t1+t2+t3,1)) + \" sec\") \n",
    "    \n",
    "    return mm_result"
   ]
  },
  {
   "cell_type": "code",
   "execution_count": 12,
   "id": "90c3da64",
   "metadata": {},
   "outputs": [],
   "source": [
    "def multimodal_search_image(image_path):\n",
    "    result_bow = search_image(image_path)\n",
    "    #print()\n",
    "    #print(result_bow)\n",
    "    #print(\"Tf-IDF search\")\n",
    "    st = search_tfidf(result_bow[0])\n",
    "    #print()\n",
    "    #print(\"Word2Vec\")\n",
    "    sw = search_word2vec(result_bow[0])\n",
    "    mm_result = []\n",
    "    mm_result.append(sw[0])\n",
    "    mm_result.append(sw[1])\n",
    "    t1 = float(result_bow[2][22:25])\n",
    "    t2 = float(st[6][22:25])\n",
    "    t3 = float(sw[7][22:25])\n",
    "    for i in range(1,6):\n",
    "        mm_result.append(st[i])\n",
    "    mm_result.append(\"Time taken to search : \" + str(round(t1+t2+t3,1)) + \" sec\") \n",
    "    return mm_result"
   ]
  },
  {
   "cell_type": "code",
   "execution_count": 13,
   "id": "42249a9c",
   "metadata": {},
   "outputs": [],
   "source": [
    "#mm_result = multimodal_search_word(\"house\")"
   ]
  },
  {
   "cell_type": "code",
   "execution_count": null,
   "id": "9a3aa246",
   "metadata": {},
   "outputs": [],
   "source": []
  }
 ],
 "metadata": {
  "kernelspec": {
   "display_name": "Python 3 (ipykernel)",
   "language": "python",
   "name": "python3"
  },
  "language_info": {
   "codemirror_mode": {
    "name": "ipython",
    "version": 3
   },
   "file_extension": ".py",
   "mimetype": "text/x-python",
   "name": "python",
   "nbconvert_exporter": "python",
   "pygments_lexer": "ipython3",
   "version": "3.8.5"
  }
 },
 "nbformat": 4,
 "nbformat_minor": 5
}
